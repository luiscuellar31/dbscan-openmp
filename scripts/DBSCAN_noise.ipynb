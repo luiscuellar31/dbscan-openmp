{
  "cells": [
    {
      "cell_type": "code",
      "execution_count": null,
      "metadata": {
        "colab": {
          "base_uri": "https://localhost:8080/",
          "height": 428
        },
        "id": "yAo8mh5FVQ3N",
        "outputId": "57e116f8-e63c-4605-e818-fefcedbbf284"
      },
      "outputs": [],
      "source": [
        "from sklearn.cluster import DBSCAN\n",
        "from sklearn.datasets import make_blobs\n",
        "import matplotlib.pyplot as plt\n",
        "import numpy as np\n",
        "\n",
        "# N\u00famero de puntos\n",
        "n_points = 4000\n",
        "\n",
        "# Generaci\u00f3n aleatoria de puntos y ruido\n",
        "points, y_true = make_blobs(n_samples=n_points,\n",
        "                            centers=4,\n",
        "                            cluster_std=0.06,\n",
        "                            random_state=11,\n",
        "                            center_box=(0, 1.0))\n",
        "\n",
        "# Solo puntos positivos y con tres decimales\n",
        "points = np.round(np.abs(points[:, ::-1]), 3)\n",
        "\n",
        "# Guardando puntos a un archivo CSV\n",
        "np.savetxt(\"../data/input/\" + str(n_points) + \"_data.csv\", points, delimiter=\",\", fmt=\"%.3f\")\n",
        "\n",
        "# Agrupando y detectando ruido con DBSCAN\n",
        "clusters = DBSCAN(eps=0.03, min_samples=10).fit_predict(points)\n",
        "\n",
        "# Graficando ruido\n",
        "plt.figure()\n",
        "plt.title(\"Detecting noise with DBSCAN\")\n",
        "plt.scatter(points[:, 0], points[:, 1], c=np.where(clusters==-1, 0, 1), s=50)\n",
        "plt.xticks([])\n",
        "plt.yticks([])\n",
        "plt.box(False)\n",
        "plt.show()\n"
      ]
    },
    {
      "cell_type": "code",
      "execution_count": null,
      "metadata": {
        "colab": {
          "base_uri": "https://localhost:8080/",
          "height": 428
        },
        "id": "K3zpwR1dTmKl",
        "outputId": "35297d77-fb22-446e-8882-f5f63b4cf8c7"
      },
      "outputs": [],
      "source": [
        "\n",
        "# Cargando resultados del programa C++ en un arreglo de NumPy\n",
        "result = np.loadtxt(\"../data/output/\" + str(n_points) + \"_results.csv\", delimiter=\",\")\n",
        "\n",
        "# Graficando ruido\n",
        "plt.figure()\n",
        "plt.title(\"Detecting noise with my DBSCAN\")\n",
        "plt.scatter(result.T[0], result.T[1], c=result.T[2], s=50)\n",
        "plt.xticks([])\n",
        "plt.yticks([])\n",
        "plt.box(False)\n",
        "plt.show()"
      ]
    }
  ],
  "metadata": {
    "colab": {
      "provenance": []
    },
    "kernelspec": {
      "display_name": "base",
      "language": "python",
      "name": "python3"
    },
    "language_info": {
      "codemirror_mode": {
        "name": "ipython",
        "version": 3
      },
      "file_extension": ".py",
      "mimetype": "text/x-python",
      "name": "python",
      "nbconvert_exporter": "python",
      "pygments_lexer": "ipython3",
      "version": "3.12.8"
    }
  },
  "nbformat": 4,
  "nbformat_minor": 0
}